{
 "cells": [
  {
   "cell_type": "code",
   "execution_count": 32,
   "id": "d218bddf-23c0-45e6-ab20-0c1229ff9d5c",
   "metadata": {},
   "outputs": [
    {
     "name": "stdout",
     "output_type": "stream",
     "text": [
      "Tensorflow version 2.6.0\n"
     ]
    }
   ],
   "source": [
    "import os, re, time, json\n",
    "import PIL.Image, PIL.ImageFont, PIL.ImageDraw\n",
    "import numpy as np\n",
    "try:\n",
    "  # %tensorflow_version only exists in Colab.\n",
    "  %tensorflow_version 2.x\n",
    "except Exception:\n",
    "  pass\n",
    "import tensorflow as tf\n",
    "from tensorflow.keras.applications.resnet50 import ResNet50\n",
    "from matplotlib import pyplot as plt\n",
    "import tensorflow_datasets as tfds\n",
    "\n",
    "print(\"Tensorflow version \" + tf.__version__)"
   ]
  },
  {
   "cell_type": "code",
   "execution_count": 33,
   "id": "34ab2e9b-5a1c-4ee3-80aa-e05e50599b77",
   "metadata": {},
   "outputs": [],
   "source": [
    "#像素尺寸\n",
    "BATCH_SIZE = 32 \n",
    "#目标类别\n",
    "classes = ['airplane', 'automobile', 'bird', 'cat', 'deer', 'dog', 'frog', 'horse', 'ship', 'truck']"
   ]
  },
  {
   "cell_type": "code",
   "execution_count": 34,
   "id": "5c04406d-2517-4093-9e78-2ecd4cf5e862",
   "metadata": {},
   "outputs": [],
   "source": [
    "#rc参数设置\n",
    "plt.rc('image', cmap='gray')\n",
    "plt.rc('grid', linewidth=0)\n",
    "plt.rc('xtick', top=False, bottom=False, labelsize='large')\n",
    "plt.rc('ytick', left=False, right=False, labelsize='large')\n",
    "plt.rc('axes', facecolor='F8F8F8', titlesize=\"large\", edgecolor='white')\n",
    "plt.rc('text', color='a8151a')\n",
    "plt.rc('figure', facecolor='F0F0F0')# Matplotlib fonts\n",
    "MATPLOTLIB_FONT_DIR = os.path.join(os.path.dirname(plt.__file__), \"mpl-data/fonts/ttf\")"
   ]
  },
  {
   "cell_type": "code",
   "execution_count": 36,
   "id": "ab35eef9-c92a-4478-9ae0-af43d613449b",
   "metadata": {},
   "outputs": [],
   "source": [
    "(training_images,training_labels)  , (validation_images, validation_labels) = tf.keras.datasets.cifar10.load_data()#用于下载10分类数据"
   ]
  },
  {
   "cell_type": "code",
   "execution_count": 37,
   "id": "1aebd138-3868-4b76-972b-351d9a790373",
   "metadata": {},
   "outputs": [],
   "source": [
    "def display_images(digits, predictions, labels, title):\n",
    "\n",
    "    n = 10\n",
    "\n",
    "    indexes = np.random.choice(len(predictions), size=n)\n",
    "    n_digits = digits[indexes]\n",
    "    n_predictions = predictions[indexes]\n",
    "    n_predictions = n_predictions.reshape((n,))\n",
    "    n_labels = labels[indexes]\n",
    "\n",
    "    fig = plt.figure(figsize=(20, 4))\n",
    "    plt.title(title)\n",
    "    plt.yticks([])\n",
    "    plt.xticks([])\n",
    "\n",
    "    for i in range(10):\n",
    "        ax = fig.add_subplot(1, 10, i+1)\n",
    "        class_index = n_predictions[i]\n",
    "\n",
    "        plt.xlabel(classes[class_index])\n",
    "        plt.xticks([])\n",
    "        plt.yticks([])\n",
    "        plt.imshow(n_digits[i])\n",
    "\n",
    "# utility to display training and validation curves\n",
    "def plot_metrics(metric_name, title, ylim=5):\n",
    "    plt.title(title)\n",
    "    plt.ylim(0,ylim)\n",
    "    plt.plot(history.history[metric_name],color='blue',label=metric_name)\n",
    "    plt.plot(history.history['val_' + metric_name],color='green',label='val_' + metric_name)"
   ]
  },
  {
   "cell_type": "code",
   "execution_count": 38,
   "id": "0fa1761c-cce3-460e-be8e-9a425c14a50c",
   "metadata": {},
   "outputs": [],
   "source": [
    "display_images(training_images, training_labels, training_labels, \"Training Data\" )"
   ]
  },
  {
   "cell_type": "code",
   "execution_count": 39,
   "id": "5fa4ffcd-e102-4540-b3e9-aadda06b2036",
   "metadata": {},
   "outputs": [],
   "source": [
    "display_images(validation_images, validation_labels, validation_labels, \"Training Data\" )"
   ]
  },
  {
   "cell_type": "code",
   "execution_count": 40,
   "id": "d8a0738b-f07a-4727-ad23-50b271eb5f0c",
   "metadata": {},
   "outputs": [],
   "source": [
    "#图像数据处理 RGB->BGR\n",
    "def preprocess_image_input(input_images):\n",
    "    input_images = input_images.astype('float32')\n",
    "    output_ims = tf.keras.applications.resnet50.preprocess_input(input_images)#初始化2d数据，直接传递数据+数据标准化\n",
    "    return output_ims"
   ]
  },
  {
   "cell_type": "code",
   "execution_count": 41,
   "id": "aa9765de-b5b0-4856-a1c2-20a065e69087",
   "metadata": {},
   "outputs": [],
   "source": [
    "train_X = preprocess_image_input(training_images)\n",
    "valid_X = preprocess_image_input(validation_images)"
   ]
  },
  {
   "cell_type": "code",
   "execution_count": 45,
   "id": "98c71d8a-11e4-4174-900a-2573d0a0a715",
   "metadata": {},
   "outputs": [
    {
     "name": "stdout",
     "output_type": "stream",
     "text": [
      "Downloading data from https://storage.googleapis.com/tensorflow/keras-applications/resnet/resnet50_weights_tf_dim_ordering_tf_kernels_notop.h5\n",
      "94773248/94765736 [==============================] - 148s 2us/step\n",
      "94781440/94765736 [==============================] - 148s 2us/step\n",
      "Model: \"model\"\n",
      "_________________________________________________________________\n",
      "Layer (type)                 Output Shape              Param #   \n",
      "=================================================================\n",
      "input_1 (InputLayer)         [(None, 32, 32, 3)]       0         \n",
      "_________________________________________________________________\n",
      "up_sampling2d (UpSampling2D) (None, 224, 224, 3)       0         \n",
      "_________________________________________________________________\n",
      "resnet50 (Functional)        (None, 7, 7, 2048)        23587712  \n",
      "_________________________________________________________________\n",
      "global_average_pooling2d (Gl (None, 2048)              0         \n",
      "_________________________________________________________________\n",
      "flatten (Flatten)            (None, 2048)              0         \n",
      "_________________________________________________________________\n",
      "dense (Dense)                (None, 1024)              2098176   \n",
      "_________________________________________________________________\n",
      "dense_1 (Dense)              (None, 512)               524800    \n",
      "_________________________________________________________________\n",
      "classification (Dense)       (None, 10)                5130      \n",
      "=================================================================\n",
      "Total params: 26,215,818\n",
      "Trainable params: 26,162,698\n",
      "Non-trainable params: 53,120\n",
      "_________________________________________________________________\n"
     ]
    }
   ],
   "source": [
    "#处理ResNet50后的数据\n",
    "def classifier(inputs):\n",
    "    x = tf.keras.layers.GlobalAveragePooling2D()(inputs)\n",
    "    x = tf.keras.layers.Flatten()(x)\n",
    "    x = tf.keras.layers.Dense(1024, activation=\"relu\")(x)\n",
    "    x = tf.keras.layers.Dense(512, activation=\"relu\")(x)\n",
    "    x = tf.keras.layers.Dense(10, activation=\"softmax\", name=\"classification\")(x)\n",
    "    return x\n",
    "#将32*32像素图转变为224*224\n",
    "#重定义ResNet50 使得可以输入224*224 并且保留ResNet50中的权值\n",
    "\n",
    "def feature_extractor(inputs):\n",
    "\n",
    "    feature_extractor = tf.keras.applications.resnet.ResNet50(input_shape=(224, 224, 3),\n",
    "                                               include_top=False,\n",
    "                                               weights='imagenet')(inputs)\n",
    "    return feature_extractor\n",
    "\n",
    "\n",
    "# include_top: 是否包括顶层的全连接层。\n",
    "# weights: None 代表随机初始化， 'imagenet' 代表加载在 ImageNet 上预训练的权值。\n",
    "# input_tensor: 可选，Keras tensor 作为模型的输入（即 layers.Input() 输出的 tensor）。\n",
    "# input_shape: 可选，输入尺寸元组，仅当 include_top=False 时有效（否则输入形状必须是 (299, 299, 3)，因为预训练模型是以这个大小训练的）。它必须拥有 3 个输入通道，且宽高必须不小于 71。例如 (150, 150, 3) 是一个合法的输入尺寸。\n",
    "# pooling: 可选，当 include_top 为 False 时，该参数指定了特征提取时的池化方式。\n",
    "# None 代表不池化，直接输出最后一层卷积层的输出，该输出是一个 4D 张量。\n",
    "# 'avg' 代表全局平均池化（GlobalAveragePooling2D），相当于在最后一层卷积层后面再加一层全局平均池化层，输出是一个 2D 张量。\n",
    "# 'max' 代表全局最大池化。\n",
    "# classes: 可选，图片分类的类别数，仅当 include_top 为 True 并且不加载预训练权值时可用。\n",
    "\n",
    "def final_model(inputs):\n",
    "\n",
    "    resize = tf.keras.layers.UpSampling2D(size=(7,7))(inputs)#像素放大层\n",
    "\n",
    "    resnet_feature_extractor = feature_extractor(resize)\n",
    "    classification_output = classifier(resnet_feature_extractor)\n",
    "\n",
    "    return classification_output\n",
    "#层层链接\n",
    "def define_compile_model():\n",
    "    inputs = tf.keras.layers.Input(shape=(32,32,3))\n",
    "\n",
    "    classification_output = final_model(inputs) \n",
    "    model = tf.keras.Model(inputs=inputs, outputs = classification_output)\n",
    "\n",
    "    model.compile(optimizer='SGD', \n",
    "                loss='sparse_categorical_crossentropy',\n",
    "                metrics = ['accuracy'])\n",
    "  \n",
    "    return model\n",
    "model = define_compile_model()\n",
    "\n",
    "model.summary()"
   ]
  },
  {
   "cell_type": "code",
   "execution_count": null,
   "id": "a0adc8b1-079c-45a0-b98c-6096c21864a3",
   "metadata": {},
   "outputs": [
    {
     "name": "stdout",
     "output_type": "stream",
     "text": [
      "Epoch 1/4\n",
      "  3/782 [..............................] - ETA: 3:33:31 - loss: 2.4105 - accuracy: 0.1198"
     ]
    }
   ],
   "source": [
    "EPOCHS = 4\n",
    "history = model.fit(train_X, training_labels, epochs=EPOCHS, validation_data = (valid_X, validation_labels), batch_size=64)"
   ]
  },
  {
   "cell_type": "code",
   "execution_count": null,
   "id": "65f571df-b4f9-48c2-9e62-a153d6febb91",
   "metadata": {},
   "outputs": [],
   "source": [
    "6"
   ]
  }
 ],
 "metadata": {
  "kernelspec": {
   "display_name": "Python 3",
   "language": "python",
   "name": "python3"
  },
  "language_info": {
   "codemirror_mode": {
    "name": "ipython",
    "version": 3
   },
   "file_extension": ".py",
   "mimetype": "text/x-python",
   "name": "python",
   "nbconvert_exporter": "python",
   "pygments_lexer": "ipython3",
   "version": "3.9.6"
  }
 },
 "nbformat": 4,
 "nbformat_minor": 5
}
