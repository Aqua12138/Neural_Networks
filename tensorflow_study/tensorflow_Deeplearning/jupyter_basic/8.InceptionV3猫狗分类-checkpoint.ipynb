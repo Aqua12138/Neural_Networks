{
 "cells": [
  {
   "cell_type": "code",
   "execution_count": 40,
   "id": "e72bb1c7-0df9-48d2-9cbc-56d378072072",
   "metadata": {},
   "outputs": [],
   "source": [
    "import urllib.request\n",
    "import os\n",
    "import zipfile\n",
    "import random\n",
    "from tensorflow.keras.preprocessing.image import ImageDataGenerator\n",
    "from tensorflow.keras import layers\n",
    "from tensorflow.keras import Model\n",
    "from tensorflow.keras.applications.inception_v3 import InceptionV3\n",
    "from tensorflow.keras.optimizers import RMSprop\n",
    "from shutil import copyfile\n",
    "\n",
    "#下载文件 文件较大 手动下载 下载的图片已经分为训练和测试组 要把图片放到一起，重新分配\n",
    "# data_url = \"https://download.microsoft.com/download/3/E/1/3E1C3F21-ECDB-4869-8368-6DEBA77B919F/kagglecatsanddogs_3367a.zip\"\n",
    "# data_file_name = \"catsdogs.zip\"\n",
    "# download_dir = '/Users/zhx/Downloads/tmp'\n",
    "# urllib.request.urlretrieve(data_url, data_file_name)\n",
    "# zip_ref = zipfile.ZipFile(data_file_name, 'r')\n",
    "# zip_ref.extractall(download_dir)\n",
    "# zip_ref.close()"
   ]
  },
  {
   "cell_type": "code",
   "execution_count": 41,
   "id": "636dc408-5990-42ce-bb5b-97ae16d12fc5",
   "metadata": {},
   "outputs": [
    {
     "name": "stdout",
     "output_type": "stream",
     "text": [
      "the number of cat images: 1000\n",
      "the number of dogs images: 1000\n",
      "the number of cat images: 500\n",
      "the number of dogs images: 500\n"
     ]
    }
   ],
   "source": [
    "print('the number of cat images:',len(os.listdir('/Users/zhx/Downloads/tmp/cats_and_dogs_filtered/train/cats')))\n",
    "print('the number of dogs images:',len(os.listdir('/Users/zhx/Downloads/tmp/cats_and_dogs_filtered/train/dogs')))\n",
    "print('the number of cat images:',len(os.listdir('/Users/zhx/Downloads/tmp/cats_and_dogs_filtered/validation/cats')))\n",
    "print('the number of dogs images:',len(os.listdir('/Users/zhx/Downloads/tmp/cats_and_dogs_filtered/validation/dogs')))"
   ]
  },
  {
   "cell_type": "code",
   "execution_count": 42,
   "id": "aee94793-2b45-4c80-8099-56bf09bb4eea",
   "metadata": {},
   "outputs": [],
   "source": [
    "#创建存储猫狗数据的文件\n",
    "try:\n",
    "    os.mkdir('/Users/zhx/Downloads/tmp/cats_and_dogs_filtered/cats-v-dogs')\n",
    "    os.mkdir('/Users/zhx/Downloads/tmp/cats_and_dogs_filtered/cats-v-dogs/training')\n",
    "    os.mkdir('/Users/zhx/Downloads/tmp/cats_and_dogs_filtered/cats-v-dogs/testing')\n",
    "    os.mkdir('/Users/zhx/Downloads/tmp/cats_and_dogs_filtered/cats-v-dogs/training/cats')\n",
    "    os.mkdir('/Users/zhx/Downloads/tmp/cats_and_dogs_filtered/cats-v-dogs/training/dogs')\n",
    "    os.mkdir('/Users/zhx/Downloads/tmp/cats_and_dogs_filtered/cats-v-dogs/testing/cats')\n",
    "    os.mkdir('/Users/zhx/Downloads/tmp/cats_and_dogs_filtered/cats-v-dogs/testing/dogs')\n",
    "except OSError:\n",
    "    pass"
   ]
  },
  {
   "cell_type": "code",
   "execution_count": 43,
   "id": "d5e2bf7f-6b20-4c7f-ba32-f006e1091eff",
   "metadata": {},
   "outputs": [],
   "source": [
    "#将数据分为训练集和测试集\n",
    "copypath_train = '/Users/zhx/Downloads/tmp/cats_and_dogs_filtered/cats-v-dogs/training/'\n",
    "copypath_test = '/Users/zhx/Downloads/tmp/cats_and_dogs_filtered/cats-v-dogs/testing/'\n",
    "from shutil import copyfile\n",
    "def split_test_train(rate,pet):\n",
    "    list = os.listdir(pet)\n",
    "    size = int(len(list))\n",
    "    ls = random.sample(list,size)\n",
    "    train_ls = ls[:int(rate*size)]\n",
    "    test_ls = ls[int(rate*size):]\n",
    "    #写入训练集\n",
    "    for i in train_ls:\n",
    "        path = pet+i\n",
    "        copyfile(path,copypath_train+pet[-11:-7]+'/'+i)\n",
    "    for j in test_ls:\n",
    "        path = pet+i\n",
    "        copyfile(path,copypath_test+pet[-11:-7]+'/'+j)"
   ]
  },
  {
   "cell_type": "code",
   "execution_count": 44,
   "id": "cc60ad79-bb65-4580-8819-13e195b10ae2",
   "metadata": {},
   "outputs": [],
   "source": [
    "CAT = '/Users/zhx/Downloads/tmp/cats_and_dogs_filtered/catsimages/'\n",
    "DOG = '/Users/zhx/Downloads/tmp/cats_and_dogs_filtered/dogsimages/'\n",
    "split_test_train(0.9,CAT)#对cat进行测试和训练分配\n",
    "split_test_train(0.9,DOG)#对dog进行测试和训练分配"
   ]
  },
  {
   "cell_type": "code",
   "execution_count": 45,
   "id": "1c2faced-fa06-4d19-81c7-3ef63426dd91",
   "metadata": {},
   "outputs": [
    {
     "name": "stdout",
     "output_type": "stream",
     "text": [
      "Number of training cat images 1350\n",
      "Number of training dog images 1350\n",
      "Number of testing cat images 151\n",
      "Number of testing dog images 150\n"
     ]
    }
   ],
   "source": [
    "print(\"Number of training cat images\", len(os.listdir('/Users/zhx/Downloads/tmp/cats_and_dogs_filtered/cats-v-dogs/training/cats/')))\n",
    "print(\"Number of training dog images\", len(os.listdir('/Users/zhx/Downloads/tmp/cats_and_dogs_filtered/cats-v-dogs/training/dogs/')))\n",
    "print(\"Number of testing cat images\", len(os.listdir('/Users/zhx/Downloads/tmp/cats_and_dogs_filtered/cats-v-dogs/testing/cats/')))\n",
    "print(\"Number of testing dog images\", len(os.listdir('/Users/zhx/Downloads/tmp/cats_and_dogs_filtered/cats-v-dogs/testing/dogs/')))"
   ]
  },
  {
   "cell_type": "code",
   "execution_count": 18,
   "id": "9ceb1f13-976b-432d-8ab6-3c8233dd1817",
   "metadata": {},
   "outputs": [
    {
     "data": {
      "text/plain": [
       "'cats'"
      ]
     },
     "execution_count": 18,
     "metadata": {},
     "output_type": "execute_result"
    }
   ],
   "source": [
    "train_dategen = ImageDataGenerator(rescale=1./255,\n",
    "                                   rotation_range=40,\n",
    "                                   width_shift_range=0.2,\n",
    "                                   height_shift_range=0.2,\n",
    "                                   shear_range=0.2,\n",
    "                                   zoom_range=0.2,\n",
    "                                   horizontal_flip=True,\n",
    "                                   fill_mode='nearest'\n",
    "                                  )\n",
    "# rotation_range 是以度为单位的值（0-180），在该范围内随机旋转图片\n",
    "# width_shift和height_shift是范围（作为总宽度或高度的一部分），在该范围内垂直或水平随机平移图片\n",
    "# rescale是一个值，我们将在任何其他处理之前将数据乘以该值。我们的原始图像包含 0-255 之间的 RGB 系数，但这些值对于我们的模型来说太高了（给定典型的学习率），因此我们将目标值设置为 0 到 1 之间，而不是使用 1/255 进行缩放。因素。\n",
    "# shear_range用于随机应用剪切变换\n",
    "# zoom_range 用于随机缩放图片内部\n",
    "# horizontal_flip 用于水平随机翻转一半的图像——当没有水平不对称的假设（例如真实世界的图片）时相关。\n",
    "# fill_mode 是用于填充新创建的像素的策略，可以在旋转或宽度/高度偏移后出现。"
   ]
  },
  {
   "cell_type": "code",
   "execution_count": null,
   "id": "e90951fe-709c-4f79-aaf1-f09aeaeebdb0",
   "metadata": {},
   "outputs": [],
   "source": []
  }
 ],
 "metadata": {
  "kernelspec": {
   "display_name": "Python 3",
   "language": "python",
   "name": "python3"
  },
  "language_info": {
   "codemirror_mode": {
    "name": "ipython",
    "version": 3
   },
   "file_extension": ".py",
   "mimetype": "text/x-python",
   "name": "python",
   "nbconvert_exporter": "python",
   "pygments_lexer": "ipython3",
   "version": "3.9.6"
  }
 },
 "nbformat": 4,
 "nbformat_minor": 5
}
